{
 "cells": [
  {
   "cell_type": "markdown",
   "metadata": {},
   "source": [
    "# The Shakes\n",
    "\n",
    "Copyright 2020 Allen Downey\n",
    "\n",
    "License: [Attribution-NonCommercial-ShareAlike 4.0 International (CC BY-NC-SA 4.0)](https://creativecommons.org/licenses/by-nc-sa/4.0/)"
   ]
  },
  {
   "cell_type": "markdown",
   "metadata": {},
   "source": [
    "*The Shakes* is a dice game that demonstrates Thompson sampling, also known as the Bayesian Bandit strategy.\n",
    "\n",
    "[The rules of the game are here](https://allendowney.github.io/TheShakes/)\n",
    "\n",
    "This notebook explains how the game works, and especially how the part of the game called \"The Argument\" uses dice to approximate Thompson sampling.\n",
    "\n",
    "The steps of Thompson sampling are:\n",
    "\n",
    "1. Use past results to compute the posterior distribution of efficacy for each treatment.\n",
    "\n",
    "2. Draw a random sample from each posterior distribution.\n",
    "\n",
    "3. Use whichever treatment draws the highest efficacy.\n",
    "\n",
    "To understand the first step, we'll start with the beta distribution."
   ]
  },
  {
   "cell_type": "markdown",
   "metadata": {},
   "source": [
    "Here are the libraries we need."
   ]
  },
  {
   "cell_type": "code",
   "execution_count": 1,
   "metadata": {
    "tags": [
     "remove-cell"
    ]
   },
   "outputs": [],
   "source": [
    "# If we're running on Colab, install empiricaldist\n",
    "# https://pypi.org/project/empiricaldist/\n",
    "\n",
    "import sys\n",
    "IN_COLAB = 'google.colab' in sys.modules\n",
    "\n",
    "if IN_COLAB:\n",
    "    !pip install empiricaldist"
   ]
  },
  {
   "cell_type": "code",
   "execution_count": 2,
   "metadata": {},
   "outputs": [],
   "source": [
    "import numpy as np\n",
    "import pandas as pd\n",
    "import matplotlib.pyplot as plt\n",
    "\n",
    "from empiricaldist import Pmf, Cdf"
   ]
  },
  {
   "cell_type": "markdown",
   "metadata": {},
   "source": [
    "## The beta distribution\n",
    "\n",
    "\n",
    "\n",
    "Suppose we have used one of the treatments 7 times and saved 2 patients."
   ]
  },
  {
   "cell_type": "code",
   "execution_count": 3,
   "metadata": {},
   "outputs": [],
   "source": [
    "treated = 7\n",
    "saved = 2"
   ]
  },
  {
   "cell_type": "markdown",
   "metadata": {},
   "source": [
    "Assuming that the prior distribution is uniform from 0 to 1, the posterior distribution is beta with parameters `alpha = saved+1` and `beta = treated-saved+1`.\n",
    "\n",
    "We can use SciPy to represent this distribution."
   ]
  },
  {
   "cell_type": "code",
   "execution_count": 4,
   "metadata": {},
   "outputs": [],
   "source": [
    "from scipy.stats import beta\n",
    "\n",
    "dist = beta(saved+1, treated-saved+1)"
   ]
  },
  {
   "cell_type": "markdown",
   "metadata": {},
   "source": [
    "To plot the distribution, I'll make a `Pmf` with a discrete approximation."
   ]
  },
  {
   "cell_type": "code",
   "execution_count": 5,
   "metadata": {},
   "outputs": [
    {
     "data": {
      "text/plain": [
       "99.9999930006"
      ]
     },
     "execution_count": 5,
     "metadata": {},
     "output_type": "execute_result"
    }
   ],
   "source": [
    "qs = np.linspace(0, 1, 101)\n",
    "ps = dist.pdf(qs)\n",
    "\n",
    "pmf_beta = Pmf(ps, qs)\n",
    "pmf_beta.normalize()"
   ]
  },
  {
   "cell_type": "markdown",
   "metadata": {},
   "source": [
    "Here's what it looks like."
   ]
  },
  {
   "cell_type": "code",
   "execution_count": 6,
   "metadata": {},
   "outputs": [
    {
     "data": {
      "image/png": "[encoded data removed]",
      "text/plain": [
       "<Figure size 432x288 with 1 Axes>"
      ]
     },
     "metadata": {
      "needs_background": "light"
     },
     "output_type": "display_data"
    }
   ],
   "source": [
    "pmf_beta.make_cdf().plot()\n",
    "\n",
    "plt.xlabel('Probability of saving the patient')\n",
    "plt.ylabel('CDF');"
   ]
  },
  {
   "cell_type": "markdown",
   "metadata": {},
   "source": [
    "Based on two survivors out of 7 patients, we think the efficacy of this treatment is low, but it could still be as high as 50% or 60%."
   ]
  },
  {
   "cell_type": "markdown",
   "metadata": {},
   "source": [
    "## Random sampling\n",
    "\n",
    "The second step of Thompson sampling is to draw a random value from each posterior distribution.\n",
    "\n",
    "There are several ways to generate beta-distributed random variables, but one in particular is amenable to being implemented with dice.  According to [Wikipedia](https://en.wikipedia.org/wiki/Beta_distribution#Generating_beta-distributed_random_variates):\n",
    "\n",
    "> ... the kth order statistic of n uniformly distributed variates is $\\mathrm {B} (k,n+1-k)$, so an alternative if α and β are small integers is to generate α + β − 1 uniform variates and choose the α-th smallest.\n",
    "\n",
    "Wikipedia cites\n",
    "David and Nagaraja, [Order Statistics](https://www.wiley.com/en-us/Order+Statistics%2C+3rd+Edition-p-9780471389262).\n",
    "\n",
    "But don't take their word for it; let's test it.\n",
    "\n",
    "The following function takes the number of patients treated and the number saved.\n",
    "\n",
    "It generates `treated+1` random values between 0 and 1, then selects the one with index `saved`."
   ]
  },
  {
   "cell_type": "code",
   "execution_count": 7,
   "metadata": {},
   "outputs": [],
   "source": [
    "def uniform(treated, saved):\n",
    "    \"\"\"Draw uniform values and select the given rank.\n",
    "    \n",
    "    treated: number of patients treated\n",
    "    saved: number saved\n",
    "    \n",
    "    returns: random value between 0 and 1\n",
    "    \"\"\"\n",
    "    rolls = np.random.random(size=treated+1)\n",
    "    kth = np.sort(rolls)[saved]\n",
    "    return kth"
   ]
  },
  {
   "cell_type": "markdown",
   "metadata": {},
   "source": [
    "Here's a sample of 10,000 values."
   ]
  },
  {
   "cell_type": "code",
   "execution_count": 8,
   "metadata": {},
   "outputs": [],
   "source": [
    "sample = [uniform(treated, saved) for _ in range(10_000)]"
   ]
  },
  {
   "cell_type": "markdown",
   "metadata": {},
   "source": [
    "And here's their distribution compared to the beta distribution"
   ]
  },
  {
   "cell_type": "code",
   "execution_count": 9,
   "metadata": {},
   "outputs": [
    {
     "data": {
      "image/png": "[encoded data removed]",
      "text/plain": [
       "<Figure size 432x288 with 1 Axes>"
      ]
     },
     "metadata": {
      "needs_background": "light"
     },
     "output_type": "display_data"
    }
   ],
   "source": [
    "cdf = Cdf.from_seq(sample)\n",
    "\n",
    "pmf_beta.make_cdf().plot(label='beta distribution')\n",
    "cdf.plot(label='sample')\n",
    "\n",
    "plt.xlabel('Probability of saving the patient')\n",
    "plt.ylabel('CDF')\n",
    "plt.legend();"
   ]
  },
  {
   "cell_type": "markdown",
   "metadata": {},
   "source": [
    "The agreement is pretty good, although there might be a small difference between the beta distribution and the sample."
   ]
  },
  {
   "cell_type": "markdown",
   "metadata": {},
   "source": [
    "## Rolling Dice\n",
    "\n",
    "The result of rolling a single die is uniformly distributed, so we can use dice to sample from a beta distribution, or at least a discrete approximation of one.\n",
    "\n",
    "The following function takes the number of patients treated, the number saved, and the number of sides on the die.\n",
    "\n",
    "It simulates the following steps:\n",
    "\n",
    "1. Roll one die plus one for each patient treated.\n",
    "\n",
    "2. Starting with the lowest die and working up, remove one die for each patient saved.\n",
    "\n",
    "3. Report the lowest of the remaining dice.\n",
    "\n"
   ]
  },
  {
   "cell_type": "code",
   "execution_count": 10,
   "metadata": {},
   "outputs": [],
   "source": [
    "def roll_dice(treated, saved, sides=6):\n",
    "    \"\"\"Simulate dice rolls and select the given rank.\n",
    "    \n",
    "    treated: number of patients treated\n",
    "    saved: number saved\n",
    "    sides: number of sides on the dice\n",
    "    \n",
    "    returns: random integer between 1 and sides (including both)\n",
    "    \"\"\"\n",
    "    rolls = np.random.randint(1, sides+1, size=treated+1)\n",
    "    kth = np.sort(rolls)[saved]\n",
    "    return kth"
   ]
  },
  {
   "cell_type": "markdown",
   "metadata": {},
   "source": [
    "Here's a sample of results using 6-sided dice."
   ]
  },
  {
   "cell_type": "code",
   "execution_count": 11,
   "metadata": {},
   "outputs": [],
   "source": [
    "sides = 6\n",
    "\n",
    "rolls = [roll_dice(treated, saved, sides) / sides\n",
    "         for _ in range(10_000)]"
   ]
  },
  {
   "cell_type": "markdown",
   "metadata": {},
   "source": [
    "Here's what the distribution of results looks like, compared to the actual beta distribution."
   ]
  },
  {
   "cell_type": "code",
   "execution_count": 12,
   "metadata": {},
   "outputs": [
    {
     "data": {
      "image/png": "[encoded data removed]",
      "text/plain": [
       "<Figure size 432x288 with 1 Axes>"
      ]
     },
     "metadata": {
      "needs_background": "light"
     },
     "output_type": "display_data"
    }
   ],
   "source": [
    "cdf = Cdf.from_seq(rolls)\n",
    "\n",
    "pmf_beta.make_cdf().plot(label='beta distribution')\n",
    "cdf.plot(label='die rolls')\n",
    "\n",
    "plt.xlabel('Probability of saving the patient')\n",
    "plt.ylabel('CDF')\n",
    "plt.legend();"
   ]
  },
  {
   "cell_type": "markdown",
   "metadata": {},
   "source": [
    "The distribution of the sample is a good (albeit coarse) approximation of the beta distribution."
   ]
  },
  {
   "cell_type": "markdown",
   "metadata": {},
   "source": [
    "## Simulating the game\n",
    "\n",
    "We can use `roll_dice` to simulate the game.\n",
    "\n",
    "The following function creates a `DataFrame` to represent the score sheet."
   ]
  },
  {
   "cell_type": "code",
   "execution_count": 13,
   "metadata": {},
   "outputs": [],
   "source": [
    "def initialize(treatments, efficacy):\n",
    "    df = pd.DataFrame(index=treatments)\n",
    "    df['efficacy'] = efficacy\n",
    "    df['treated'] = 0\n",
    "    df['saved'] = 0\n",
    "    return df"
   ]
  },
  {
   "cell_type": "markdown",
   "metadata": {},
   "source": [
    "Here's an example with four treatments and their corresponding efficacies:"
   ]
  },
  {
   "cell_type": "code",
   "execution_count": 14,
   "metadata": {},
   "outputs": [],
   "source": [
    "treatments = ['peppers', 'venom', 'blood', 'fire']\n",
    "np.random.shuffle(treatments)\n",
    "\n",
    "efficacy = [4, 2, 1, 1]"
   ]
  },
  {
   "cell_type": "code",
   "execution_count": 15,
   "metadata": {},
   "outputs": [
    {
     "data": {
      "text/html": [
       "<div>\n",
       "<style scoped>\n",
       "    .dataframe tbody tr th:only-of-type {\n",
       "        vertical-align: middle;\n",
       "    }\n",
       "\n",
       "    .dataframe tbody tr th {\n",
       "        vertical-align: top;\n",
       "    }\n",
       "\n",
       "    .dataframe thead th {\n",
       "        text-align: right;\n",
       "    }\n",
       "</style>\n",
       "<table border=\"1\" class=\"dataframe\">\n",
       "  <thead>\n",
       "    <tr style=\"text-align: right;\">\n",
       "      <th></th>\n",
       "      <th>efficacy</th>\n",
       "      <th>treated</th>\n",
       "      <th>saved</th>\n",
       "    </tr>\n",
       "  </thead>\n",
       "  <tbody>\n",
       "    <tr>\n",
       "      <th>blood</th>\n",
       "      <td>4</td>\n",
       "      <td>0</td>\n",
       "      <td>0</td>\n",
       "    </tr>\n",
       "    <tr>\n",
       "      <th>fire</th>\n",
       "      <td>2</td>\n",
       "      <td>0</td>\n",
       "      <td>0</td>\n",
       "    </tr>\n",
       "    <tr>\n",
       "      <th>venom</th>\n",
       "      <td>1</td>\n",
       "      <td>0</td>\n",
       "      <td>0</td>\n",
       "    </tr>\n",
       "    <tr>\n",
       "      <th>peppers</th>\n",
       "      <td>1</td>\n",
       "      <td>0</td>\n",
       "      <td>0</td>\n",
       "    </tr>\n",
       "  </tbody>\n",
       "</table>\n",
       "</div>"
      ],
      "text/plain": [
       "         efficacy  treated  saved\n",
       "blood           4        0      0\n",
       "fire            2        0      0\n",
       "venom           1        0      0\n",
       "peppers         1        0      0"
      ]
     },
     "execution_count": 15,
     "metadata": {},
     "output_type": "execute_result"
    }
   ],
   "source": [
    "df = initialize(treatments, efficacy)\n",
    "df"
   ]
  },
  {
   "cell_type": "code",
   "execution_count": 16,
   "metadata": {},
   "outputs": [],
   "source": [
    "def argue(df):\n",
    "    res = pd.Series(0, index=df.index)\n",
    "    for treatment in df.index:\n",
    "        saved = df.loc[treatment, 'saved']\n",
    "        treated = df.loc[treatment, 'treated']\n",
    "        res[treatment] = roll_dice(treated, saved)\n",
    "    return res"
   ]
  },
  {
   "cell_type": "code",
   "execution_count": 17,
   "metadata": {},
   "outputs": [
    {
     "data": {
      "text/plain": [
       "blood      5\n",
       "fire       1\n",
       "venom      6\n",
       "peppers    2\n",
       "dtype: int64"
      ]
     },
     "execution_count": 17,
     "metadata": {},
     "output_type": "execute_result"
    }
   ],
   "source": [
    "strength = argue(df)\n",
    "strength"
   ]
  },
  {
   "cell_type": "code",
   "execution_count": 18,
   "metadata": {},
   "outputs": [],
   "source": [
    "def choose(strength):\n",
    "    \"\"\"Choose the strongest argument\n",
    "    \n",
    "    strength: Series of strength scores\n",
    "    \n",
    "    returns: an element from the index of strength\n",
    "    \"\"\"\n",
    "    # make a copy of the strength column and shuffle it\n",
    "    # so ties are broken randomly\n",
    "    shuffled = strength.sample(frac=1)\n",
    "    \n",
    "    # return the treatment whose argument is strongest\n",
    "    return shuffled.idxmax()"
   ]
  },
  {
   "cell_type": "code",
   "execution_count": 19,
   "metadata": {},
   "outputs": [
    {
     "data": {
      "text/plain": [
       "'venom'"
      ]
     },
     "execution_count": 19,
     "metadata": {},
     "output_type": "execute_result"
    }
   ],
   "source": [
    "t = choose(strength)\n",
    "t"
   ]
  },
  {
   "cell_type": "code",
   "execution_count": 20,
   "metadata": {},
   "outputs": [],
   "source": [
    "def treat(df, treatment):\n",
    "    \"\"\"Simulate treating a patient.\n",
    "    \n",
    "    df: DataFrame representing the \n",
    "    \n",
    "    The probability of survival depends on the efficacy \n",
    "    of the treatment.\n",
    "    \"\"\"\n",
    "    eff = df.loc[treatment, 'efficacy']\n",
    "    df.loc[treatment, 'treated'] += 1\n",
    "    survived = np.random.randint(1, 7) <= eff\n",
    "    if survived:\n",
    "        df.loc[treatment, 'saved'] += 1\n",
    "    return survived"
   ]
  },
  {
   "cell_type": "code",
   "execution_count": 21,
   "metadata": {},
   "outputs": [
    {
     "data": {
      "text/plain": [
       "False"
      ]
     },
     "execution_count": 21,
     "metadata": {},
     "output_type": "execute_result"
    }
   ],
   "source": [
    "treat(df, t)"
   ]
  },
  {
   "cell_type": "code",
   "execution_count": 22,
   "metadata": {},
   "outputs": [
    {
     "data": {
      "text/html": [
       "<div>\n",
       "<style scoped>\n",
       "    .dataframe tbody tr th:only-of-type {\n",
       "        vertical-align: middle;\n",
       "    }\n",
       "\n",
       "    .dataframe tbody tr th {\n",
       "        vertical-align: top;\n",
       "    }\n",
       "\n",
       "    .dataframe thead th {\n",
       "        text-align: right;\n",
       "    }\n",
       "</style>\n",
       "<table border=\"1\" class=\"dataframe\">\n",
       "  <thead>\n",
       "    <tr style=\"text-align: right;\">\n",
       "      <th></th>\n",
       "      <th>efficacy</th>\n",
       "      <th>treated</th>\n",
       "      <th>saved</th>\n",
       "    </tr>\n",
       "  </thead>\n",
       "  <tbody>\n",
       "    <tr>\n",
       "      <th>blood</th>\n",
       "      <td>4</td>\n",
       "      <td>0</td>\n",
       "      <td>0</td>\n",
       "    </tr>\n",
       "    <tr>\n",
       "      <th>fire</th>\n",
       "      <td>2</td>\n",
       "      <td>0</td>\n",
       "      <td>0</td>\n",
       "    </tr>\n",
       "    <tr>\n",
       "      <th>venom</th>\n",
       "      <td>1</td>\n",
       "      <td>1</td>\n",
       "      <td>0</td>\n",
       "    </tr>\n",
       "    <tr>\n",
       "      <th>peppers</th>\n",
       "      <td>1</td>\n",
       "      <td>0</td>\n",
       "      <td>0</td>\n",
       "    </tr>\n",
       "  </tbody>\n",
       "</table>\n",
       "</div>"
      ],
      "text/plain": [
       "         efficacy  treated  saved\n",
       "blood           4        0      0\n",
       "fire            2        0      0\n",
       "venom           1        1      0\n",
       "peppers         1        0      0"
      ]
     },
     "execution_count": 22,
     "metadata": {},
     "output_type": "execute_result"
    }
   ],
   "source": [
    "df"
   ]
  },
  {
   "cell_type": "code",
   "execution_count": 23,
   "metadata": {},
   "outputs": [],
   "source": [
    "def simulate(treatments, efficacy, num_rounds=18):\n",
    "    \"\"\"Simulate the game.\n",
    "    \n",
    "    treatments: sequence of strings\n",
    "    efficacy: sequence of integers 1-6\n",
    "    num_round: how many rounds to play\n",
    "    \n",
    "    returns: DataFrame with the results\n",
    "    \"\"\"\n",
    "    np.random.shuffle(treatments)\n",
    "    df = initialize(treatments, efficacy)\n",
    "\n",
    "    for _ in range(num_rounds):\n",
    "        strength = argue(df)\n",
    "        t = choose(strength)\n",
    "        survived = treat(df, t)\n",
    "        \n",
    "    return df"
   ]
  },
  {
   "cell_type": "code",
   "execution_count": 24,
   "metadata": {},
   "outputs": [
    {
     "data": {
      "text/html": [
       "<div>\n",
       "<style scoped>\n",
       "    .dataframe tbody tr th:only-of-type {\n",
       "        vertical-align: middle;\n",
       "    }\n",
       "\n",
       "    .dataframe tbody tr th {\n",
       "        vertical-align: top;\n",
       "    }\n",
       "\n",
       "    .dataframe thead th {\n",
       "        text-align: right;\n",
       "    }\n",
       "</style>\n",
       "<table border=\"1\" class=\"dataframe\">\n",
       "  <thead>\n",
       "    <tr style=\"text-align: right;\">\n",
       "      <th></th>\n",
       "      <th>efficacy</th>\n",
       "      <th>treated</th>\n",
       "      <th>saved</th>\n",
       "    </tr>\n",
       "  </thead>\n",
       "  <tbody>\n",
       "    <tr>\n",
       "      <th>peppers</th>\n",
       "      <td>4</td>\n",
       "      <td>9</td>\n",
       "      <td>5</td>\n",
       "    </tr>\n",
       "    <tr>\n",
       "      <th>venom</th>\n",
       "      <td>2</td>\n",
       "      <td>2</td>\n",
       "      <td>0</td>\n",
       "    </tr>\n",
       "    <tr>\n",
       "      <th>blood</th>\n",
       "      <td>1</td>\n",
       "      <td>5</td>\n",
       "      <td>2</td>\n",
       "    </tr>\n",
       "    <tr>\n",
       "      <th>fire</th>\n",
       "      <td>1</td>\n",
       "      <td>2</td>\n",
       "      <td>0</td>\n",
       "    </tr>\n",
       "  </tbody>\n",
       "</table>\n",
       "</div>"
      ],
      "text/plain": [
       "         efficacy  treated  saved\n",
       "peppers         4        9      5\n",
       "venom           2        2      0\n",
       "blood           1        5      2\n",
       "fire            1        2      0"
      ]
     },
     "execution_count": 24,
     "metadata": {},
     "output_type": "execute_result"
    }
   ],
   "source": [
    "df = simulate(treatments, efficacy)\n",
    "df"
   ]
  },
  {
   "cell_type": "markdown",
   "metadata": {},
   "source": [
    "To summarize the results, display the total number saved and the number treated."
   ]
  },
  {
   "cell_type": "code",
   "execution_count": 25,
   "metadata": {},
   "outputs": [],
   "source": [
    "def totals(df):\n",
    "    return df['saved'].sum(), df['treated'].sum()"
   ]
  },
  {
   "cell_type": "code",
   "execution_count": 26,
   "metadata": {},
   "outputs": [
    {
     "data": {
      "text/plain": [
       "(7, 18)"
      ]
     },
     "execution_count": 26,
     "metadata": {},
     "output_type": "execute_result"
    }
   ],
   "source": [
    "totals(df)"
   ]
  },
  {
   "cell_type": "markdown",
   "metadata": {},
   "source": [
    "Simulate many games and record the outcomes."
   ]
  },
  {
   "cell_type": "code",
   "execution_count": 27,
   "metadata": {},
   "outputs": [],
   "source": [
    "num_saved = []\n",
    "max_dice = []\n",
    "\n",
    "for _ in range(1000):\n",
    "    df = simulate(treatments, efficacy)\n",
    "    num_saved.append(df['saved'].sum())\n",
    "    max_dice.append(df['treated'].max())"
   ]
  },
  {
   "cell_type": "markdown",
   "metadata": {},
   "source": [
    "Here's the distribution of the number of patients saved."
   ]
  },
  {
   "cell_type": "code",
   "execution_count": 28,
   "metadata": {},
   "outputs": [
    {
     "data": {
      "text/plain": [
       "Text(0, 0.5, 'PMF')"
      ]
     },
     "execution_count": 28,
     "metadata": {},
     "output_type": "execute_result"
    },
    {
     "data": {
      "image/png": "[encoded data removed]",
      "text/plain": [
       "<Figure size 432x288 with 1 Axes>"
      ]
     },
     "metadata": {
      "needs_background": "light"
     },
     "output_type": "display_data"
    }
   ],
   "source": [
    "pmf = Pmf.from_seq(num_saved)\n",
    "pmf.bar()\n",
    "\n",
    "plt.xlabel('Total patients saved')\n",
    "plt.ylabel('PMF')"
   ]
  },
  {
   "cell_type": "markdown",
   "metadata": {},
   "source": [
    "The players win about 70% of the time."
   ]
  },
  {
   "cell_type": "code",
   "execution_count": 29,
   "metadata": {},
   "outputs": [
    {
     "data": {
      "text/plain": [
       "0.662"
      ]
     },
     "execution_count": 29,
     "metadata": {},
     "output_type": "execute_result"
    }
   ],
   "source": [
    "pmf.gt_dist(6)"
   ]
  },
  {
   "cell_type": "markdown",
   "metadata": {},
   "source": [
    "Here's the distribution for the maximum number of dice we need."
   ]
  },
  {
   "cell_type": "code",
   "execution_count": 30,
   "metadata": {},
   "outputs": [
    {
     "data": {
      "text/plain": [
       "Text(0, 0.5, 'PMF')"
      ]
     },
     "execution_count": 30,
     "metadata": {},
     "output_type": "execute_result"
    },
    {
     "data": {
      "image/png": "[encoded data removed]",
      "text/plain": [
       "<Figure size 432x288 with 1 Axes>"
      ]
     },
     "metadata": {
      "needs_background": "light"
     },
     "output_type": "display_data"
    }
   ],
   "source": [
    "pmf = Pmf.from_seq(max_dice)\n",
    "pmf.bar()\n",
    "\n",
    "plt.xlabel('Maximum dice needed')\n",
    "plt.ylabel('PMF')"
   ]
  },
  {
   "cell_type": "code",
   "execution_count": 31,
   "metadata": {},
   "outputs": [
    {
     "data": {
      "text/plain": [
       "0.279"
      ]
     },
     "execution_count": 31,
     "metadata": {},
     "output_type": "execute_result"
    }
   ],
   "source": [
    "(np.array(max_dice) > 10).mean()"
   ]
  },
  {
   "cell_type": "code",
   "execution_count": null,
   "metadata": {},
   "outputs": [],
   "source": []
  }
 ],
 "metadata": {
  "celltoolbar": "Tags",
  "kernelspec": {
   "display_name": "Python 3",
   "language": "python",
   "name": "python3"
  },
  "language_info": {
   "codemirror_mode": {
    "name": "ipython",
    "version": 3
   },
   "file_extension": ".py",
   "mimetype": "text/x-python",
   "name": "python",
   "nbconvert_exporter": "python",
   "pygments_lexer": "ipython3",
   "version": "3.7.9"
  }
 },
 "nbformat": 4,
 "nbformat_minor": 4
}
